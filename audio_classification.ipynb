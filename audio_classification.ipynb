{
 "cells": [
  {
   "cell_type": "markdown",
   "id": "1a69f502",
   "metadata": {},
   "source": [
    "# Colab Setup"
   ]
  },
  {
   "cell_type": "code",
   "execution_count": null,
   "id": "b62a7c7f",
   "metadata": {},
   "outputs": [],
   "source": [
    "from google.colab import drive\n",
    "drive.mount('/content/drive')\n",
    "\n",
    "# Upload kaggle.json file\n",
    "from google.colab import files\n",
    "files.upload()"
   ]
  },
  {
   "cell_type": "code",
   "execution_count": null,
   "id": "11818652",
   "metadata": {},
   "outputs": [],
   "source": [
    "!pip install -q kaggle\n",
    "!pip install -q pydub\n",
    "!pip install -q transformers\n",
    "!pip install -q tensorboard\n",
    "\n",
    "!mkdir ~/.kaggle\n",
    "!mv ./kaggle.json ~/.kaggle/\n",
    "!kaggle datasets download -d andradaolteanu/gtzan-dataset-music-genre-classification\n",
    "!unzip -q gtzan-dataset-music-genre-classification.zip\n",
    "!mv Data data\n",
    "!mv data/genres_original data/audio\n",
    "\n",
    "# jazz.00054.wav is corrupted so we need to delete it\n",
    "!rm ./data/audio/jazz/jazz.00054.wav"
   ]
  },
  {
   "cell_type": "code",
   "execution_count": null,
   "id": "99baf248",
   "metadata": {},
   "outputs": [],
   "source": [
    "# Set this to drive location of colab_version\n",
    "%cd /content/drive/MyDrive/DL/colab_version\n",
    "\n",
    "from utils import set_data_root_dir\n",
    "set_data_root_dir('/content')"
   ]
  },
  {
   "cell_type": "markdown",
   "id": "1ca3476b",
   "metadata": {},
   "source": [
    "# Setup"
   ]
  },
  {
   "cell_type": "code",
   "execution_count": 1,
   "id": "22335bd2",
   "metadata": {},
   "outputs": [],
   "source": [
    "%load_ext autoreload\n",
    "%autoreload 2"
   ]
  },
  {
   "cell_type": "code",
   "execution_count": 126,
   "id": "cfb8bc0d",
   "metadata": {},
   "outputs": [],
   "source": [
    "import torch\n",
    "\n",
    "from utils.train_utils import train\n",
    "from utils.data_utils import setup_dataset, read_into_df, get_train_val, RawDS\n",
    "from models.CombinedClassifier import CombinedClassifier, ASTPipeline"
   ]
  },
  {
   "cell_type": "code",
   "execution_count": 127,
   "id": "8b597b96",
   "metadata": {},
   "outputs": [
    {
     "name": "stdout",
     "output_type": "stream",
     "text": [
      "Using device: cpu\n"
     ]
    }
   ],
   "source": [
    "device = torch.device('cuda' if torch.cuda.is_available() else 'cpu')\n",
    "print(\"Using device: %s\" % device)"
   ]
  },
  {
   "cell_type": "code",
   "execution_count": 128,
   "id": "dbb9ed7f",
   "metadata": {},
   "outputs": [
    {
     "name": "stdout",
     "output_type": "stream",
     "text": [
      "Dataset already setup!\n"
     ]
    }
   ],
   "source": [
    "setup_dataset()\n",
    "df = read_into_df()\n",
    "df.head()"
   ]
  },
  {
   "cell_type": "markdown",
   "id": "1067ae87",
   "metadata": {},
   "source": [
    "# Combined Classifier"
   ]
  },
  {
   "cell_type": "code",
   "execution_count": null,
   "id": "dfb3121a",
   "metadata": {},
   "outputs": [],
   "source": [
    "dataset = RawDS(df)\n",
    "train_dl, val_dl = get_train_val(dataset, train_split=0.8, batch_size=8)\n",
    "\n",
    "model = CombinedClassifier(device)\n",
    "model.to(device)\n",
    "\n",
    "num_epochs = 20\n",
    "lr = 0.001\n",
    "train(model, train_dl, val_dl, num_epochs, lr, device)"
   ]
  }
 ],
 "metadata": {
  "kernelspec": {
   "display_name": "Python 3 (ipykernel)",
   "language": "python",
   "name": "python3"
  },
  "language_info": {
   "codemirror_mode": {
    "name": "ipython",
    "version": 3
   },
   "file_extension": ".py",
   "mimetype": "text/x-python",
   "name": "python",
   "nbconvert_exporter": "python",
   "pygments_lexer": "ipython3",
   "version": "3.9.16"
  }
 },
 "nbformat": 4,
 "nbformat_minor": 5
}
