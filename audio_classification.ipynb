{
 "cells": [
  {
   "cell_type": "markdown",
   "id": "1a69f502",
   "metadata": {},
   "source": [
    "# Colab Setup"
   ]
  },
  {
   "cell_type": "code",
   "execution_count": null,
   "id": "b62a7c7f",
   "metadata": {},
   "outputs": [],
   "source": [
    "from google.colab import drive\n",
    "drive.mount('/content/drive')\n",
    "\n",
    "# Upload kaggle.json file\n",
    "from google.colab import files\n",
    "files.upload()"
   ]
  },
  {
   "cell_type": "code",
   "execution_count": null,
   "id": "11818652",
   "metadata": {},
   "outputs": [],
   "source": [
    "!pip install -q kaggle\n",
    "!pip install -q pydub\n",
    "!pip install -q transformers\n",
    "!pip install -q tensorboard\n",
    "\n",
    "!mkdir ~/.kaggle\n",
    "!mv ./kaggle.json ~/.kaggle/\n",
    "!kaggle datasets download -d andradaolteanu/gtzan-dataset-music-genre-classification\n",
    "!unzip -q gtzan-dataset-music-genre-classification.zip\n",
    "!mv Data data\n",
    "!mv data/genres_original data/audio\n",
    "\n",
    "# jazz.00054.wav is corrupted so we need to delete it\n",
    "!rm ./data/audio/jazz/jazz.00054.wav"
   ]
  },
  {
   "cell_type": "code",
   "execution_count": null,
   "id": "99baf248",
   "metadata": {},
   "outputs": [],
   "source": [
    "# Set this to drive location of colab_version\n",
    "%cd /content/drive/MyDrive/DL/colab_version\n",
    "\n",
    "from utils import set_data_root_dir\n",
    "set_data_root_dir('/content')"
   ]
  },
  {
   "cell_type": "markdown",
   "id": "1ca3476b",
   "metadata": {},
   "source": [
    "# Setup"
   ]
  },
  {
   "cell_type": "code",
   "execution_count": 1,
   "id": "22335bd2",
   "metadata": {},
   "outputs": [],
   "source": [
    "%load_ext autoreload\n",
    "%autoreload 2"
   ]
  },
  {
   "cell_type": "code",
   "execution_count": 48,
   "id": "cfb8bc0d",
   "metadata": {},
   "outputs": [],
   "source": [
    "import torch\n",
    "\n",
    "from utils.train_utils import train, load_model\n",
    "from utils.data_utils import setup_dataset, read_into_df, get_train_val, RawDS\n",
    "from models.CombinedClassifier import CombinedClassifier, ASTPipeline\n",
    "from models.CNNClassifier import CNNClassifier\n",
    "from utils.analysis_utils import eval, gen_confusion_matrix, gen_tsne, gen_saliency"
   ]
  },
  {
   "cell_type": "code",
   "execution_count": 3,
   "id": "8b597b96",
   "metadata": {},
   "outputs": [
    {
     "name": "stdout",
     "output_type": "stream",
     "text": [
      "Using device: cuda\n"
     ]
    }
   ],
   "source": [
    "device = torch.device('cuda' if torch.cuda.is_available() else 'cpu')\n",
    "print(\"Using device: %s\" % device)"
   ]
  },
  {
   "cell_type": "code",
   "execution_count": 4,
   "id": "dbb9ed7f",
   "metadata": {},
   "outputs": [
    {
     "name": "stdout",
     "output_type": "stream",
     "text": [
      "Dataset already setup!\n"
     ]
    },
    {
     "data": {
      "text/html": [
       "<div>\n",
       "<style scoped>\n",
       "    .dataframe tbody tr th:only-of-type {\n",
       "        vertical-align: middle;\n",
       "    }\n",
       "\n",
       "    .dataframe tbody tr th {\n",
       "        vertical-align: top;\n",
       "    }\n",
       "\n",
       "    .dataframe thead th {\n",
       "        text-align: right;\n",
       "    }\n",
       "</style>\n",
       "<table border=\"1\" class=\"dataframe\">\n",
       "  <thead>\n",
       "    <tr style=\"text-align: right;\">\n",
       "      <th></th>\n",
       "      <th>file</th>\n",
       "      <th>label</th>\n",
       "      <th>labelId</th>\n",
       "    </tr>\n",
       "  </thead>\n",
       "  <tbody>\n",
       "    <tr>\n",
       "      <th>0</th>\n",
       "      <td>/home/gigachad/DeepLearningProject/utils/../da...</td>\n",
       "      <td>jazz</td>\n",
       "      <td>5</td>\n",
       "    </tr>\n",
       "    <tr>\n",
       "      <th>1</th>\n",
       "      <td>/home/gigachad/DeepLearningProject/utils/../da...</td>\n",
       "      <td>jazz</td>\n",
       "      <td>5</td>\n",
       "    </tr>\n",
       "    <tr>\n",
       "      <th>2</th>\n",
       "      <td>/home/gigachad/DeepLearningProject/utils/../da...</td>\n",
       "      <td>jazz</td>\n",
       "      <td>5</td>\n",
       "    </tr>\n",
       "    <tr>\n",
       "      <th>3</th>\n",
       "      <td>/home/gigachad/DeepLearningProject/utils/../da...</td>\n",
       "      <td>jazz</td>\n",
       "      <td>5</td>\n",
       "    </tr>\n",
       "    <tr>\n",
       "      <th>4</th>\n",
       "      <td>/home/gigachad/DeepLearningProject/utils/../da...</td>\n",
       "      <td>jazz</td>\n",
       "      <td>5</td>\n",
       "    </tr>\n",
       "  </tbody>\n",
       "</table>\n",
       "</div>"
      ],
      "text/plain": [
       "                                                file label  labelId\n",
       "0  /home/gigachad/DeepLearningProject/utils/../da...  jazz        5\n",
       "1  /home/gigachad/DeepLearningProject/utils/../da...  jazz        5\n",
       "2  /home/gigachad/DeepLearningProject/utils/../da...  jazz        5\n",
       "3  /home/gigachad/DeepLearningProject/utils/../da...  jazz        5\n",
       "4  /home/gigachad/DeepLearningProject/utils/../da...  jazz        5"
      ]
     },
     "execution_count": 4,
     "metadata": {},
     "output_type": "execute_result"
    }
   ],
   "source": [
    "setup_dataset()\n",
    "df = read_into_df()\n",
    "class_map = dict(zip(df.labelId,df.label))\n",
    "df.head()"
   ]
  },
  {
   "cell_type": "markdown",
   "id": "1067ae87",
   "metadata": {},
   "source": [
    "# Combined Classifier"
   ]
  },
  {
   "cell_type": "code",
   "execution_count": null,
   "id": "dfb3121a",
   "metadata": {},
   "outputs": [],
   "source": [
    "dataset = RawDS(df)\n",
    "train_dl, val_dl = get_train_val(dataset, train_split=0.8, batch_size=8)\n",
    "\n",
    "model = CombinedClassifier(device)\n",
    "model.to(device)\n",
    "\n",
    "num_epochs = 20\n",
    "lr = 0.001\n",
    "train(model, train_dl, val_dl, num_epochs, lr, device, 'CombinedClassifier')"
   ]
  },
  {
   "cell_type": "code",
   "execution_count": 55,
   "id": "e005dcd5",
   "metadata": {},
   "outputs": [
    {
     "name": "stderr",
     "output_type": "stream",
     "text": [
      "Some weights of the model checkpoint at bookbot/distil-ast-audioset were not used when initializing ASTModel: ['classifier.layernorm.weight', 'classifier.layernorm.bias', 'classifier.dense.weight', 'classifier.dense.bias']\n",
      "- This IS expected if you are initializing ASTModel from the checkpoint of a model trained on another task or with another architecture (e.g. initializing a BertForSequenceClassification model from a BertForPreTraining model).\n",
      "- This IS NOT expected if you are initializing ASTModel from the checkpoint of a model that you expect to be exactly identical (initializing a BertForSequenceClassification model from a BertForSequenceClassification model).\n"
     ]
    }
   ],
   "source": [
    "model = CombinedClassifier(device)\n",
    "model = model.to(device)\n",
    "data = next(iter(val_dl))[0]\n",
    "data.requires_grad = True"
   ]
  },
  {
   "cell_type": "code",
   "execution_count": 58,
   "id": "5bca6bf2",
   "metadata": {},
   "outputs": [
    {
     "name": "stdout",
     "output_type": "stream",
     "text": [
      "combined torch.Size([8, 1288])\n"
     ]
    },
    {
     "data": {
      "text/plain": [
       "tensor([[-8.7058e-01,  5.9162e-01, -5.2081e-01, -1.1821e-01, -9.6421e-01,\n",
       "         -2.2069e-01,  2.9009e-01, -9.5899e-01, -1.0546e+00, -1.6374e+00],\n",
       "        [ 1.0724e-02,  1.0300e-02,  1.5734e-01, -3.0877e-03, -8.2279e-01,\n",
       "         -2.3462e-01,  3.8942e-01, -2.5231e-01, -3.8963e-01, -6.8000e-01],\n",
       "        [ 2.1108e-01,  6.8578e-02,  1.6717e-01, -5.8163e-01, -7.0046e-01,\n",
       "          3.1625e-02,  3.0342e-01,  2.0632e-01, -7.2491e-01, -2.5967e-01],\n",
       "        [ 1.5571e-04,  1.0741e+00, -3.5944e-01, -7.6145e-02, -9.0975e-01,\n",
       "          1.7617e-01, -6.6822e-03, -9.5549e-01, -1.2675e+00,  3.5806e-01],\n",
       "        [ 1.5772e-01,  1.1056e-01, -1.2497e-01, -5.6005e-02, -2.6339e-01,\n",
       "          9.5287e-02, -2.1746e-01, -3.1530e-01, -2.2905e-01, -2.2621e-01],\n",
       "        [-6.4361e-02,  3.0087e-01, -6.3197e-03, -2.1962e-01, -4.4209e-01,\n",
       "         -1.5538e-01, -8.1725e-01, -9.6353e-03, -2.1525e-01,  5.0907e-02],\n",
       "        [ 3.1551e-01, -3.4277e-01,  1.4911e-01, -4.9215e-01, -5.5480e-01,\n",
       "          2.1246e-01, -6.1885e-02, -5.3710e-01, -5.5661e-01, -2.0845e-01],\n",
       "        [ 1.2527e-01, -5.6497e-02, -8.1391e-02, -2.0883e-01, -5.0083e-01,\n",
       "          9.9583e-02, -2.8304e-01,  4.3628e-02,  5.6821e-02,  1.1891e-01]],\n",
       "       device='cuda:0', grad_fn=<AddmmBackward0>)"
      ]
     },
     "execution_count": 58,
     "metadata": {},
     "output_type": "execute_result"
    }
   ],
   "source": [
    "model(data)"
   ]
  },
  {
   "attachments": {},
   "cell_type": "markdown",
   "id": "321275c6",
   "metadata": {},
   "source": [
    "# Evaluation"
   ]
  },
  {
   "cell_type": "code",
   "execution_count": 5,
   "id": "33e437bd",
   "metadata": {},
   "outputs": [
    {
     "name": "stderr",
     "output_type": "stream",
     "text": [
      "Some weights of the model checkpoint at bookbot/distil-ast-audioset were not used when initializing ASTModel: ['classifier.layernorm.weight', 'classifier.layernorm.bias', 'classifier.dense.weight', 'classifier.dense.bias']\n",
      "- This IS expected if you are initializing ASTModel from the checkpoint of a model trained on another task or with another architecture (e.g. initializing a BertForSequenceClassification model from a BertForPreTraining model).\n",
      "- This IS NOT expected if you are initializing ASTModel from the checkpoint of a model that you expect to be exactly identical (initializing a BertForSequenceClassification model from a BertForSequenceClassification model).\n"
     ]
    },
    {
     "data": {
      "text/plain": [
       "CombinedClassifier(\n",
       "  (ast_pipeline): ASTPipeline()\n",
       "  (ast_model): ASTModel(\n",
       "    (embeddings): ASTEmbeddings(\n",
       "      (patch_embeddings): ASTPatchEmbeddings(\n",
       "        (projection): Conv2d(1, 768, kernel_size=(16, 16), stride=(10, 10))\n",
       "      )\n",
       "      (dropout): Dropout(p=0.0, inplace=False)\n",
       "    )\n",
       "    (encoder): ASTEncoder(\n",
       "      (layer): ModuleList(\n",
       "        (0-5): 6 x ASTLayer(\n",
       "          (attention): ASTAttention(\n",
       "            (attention): ASTSelfAttention(\n",
       "              (query): Linear(in_features=768, out_features=768, bias=True)\n",
       "              (key): Linear(in_features=768, out_features=768, bias=True)\n",
       "              (value): Linear(in_features=768, out_features=768, bias=True)\n",
       "              (dropout): Dropout(p=0.0, inplace=False)\n",
       "            )\n",
       "            (output): ASTSelfOutput(\n",
       "              (dense): Linear(in_features=768, out_features=768, bias=True)\n",
       "              (dropout): Dropout(p=0.0, inplace=False)\n",
       "            )\n",
       "          )\n",
       "          (intermediate): ASTIntermediate(\n",
       "            (dense): Linear(in_features=768, out_features=3072, bias=True)\n",
       "            (intermediate_act_fn): GELUActivation()\n",
       "          )\n",
       "          (output): ASTOutput(\n",
       "            (dense): Linear(in_features=3072, out_features=768, bias=True)\n",
       "            (dropout): Dropout(p=0.0, inplace=False)\n",
       "          )\n",
       "          (layernorm_before): LayerNorm((768,), eps=1e-12, elementwise_affine=True)\n",
       "          (layernorm_after): LayerNorm((768,), eps=1e-12, elementwise_affine=True)\n",
       "        )\n",
       "      )\n",
       "    )\n",
       "    (layernorm): LayerNorm((768,), eps=1e-12, elementwise_affine=True)\n",
       "  )\n",
       "  (relu1): ReLU()\n",
       "  (linear1): Linear(in_features=768, out_features=100, bias=True)\n",
       "  (relu2): ReLU()\n",
       "  (linear2): Linear(in_features=100, out_features=10, bias=True)\n",
       ")"
      ]
     },
     "execution_count": 5,
     "metadata": {},
     "output_type": "execute_result"
    }
   ],
   "source": [
    "model = CombinedClassifier(device)\n",
    "load_model('ast_audio_classifier.pt', model)\n",
    "model.to(device)"
   ]
  },
  {
   "cell_type": "code",
   "execution_count": 6,
   "id": "87be53b3",
   "metadata": {},
   "outputs": [],
   "source": [
    "dataset = RawDS(df)\n",
    "train_dl, val_dl = get_train_val(dataset, train_split=0.8, batch_size=8)"
   ]
  },
  {
   "cell_type": "code",
   "execution_count": 22,
   "id": "019781b3",
   "metadata": {},
   "outputs": [
    {
     "data": {
      "application/vnd.jupyter.widget-view+json": {
       "model_id": "d92d70d3e58148e2a6007e8db365da00",
       "version_major": 2,
       "version_minor": 0
      },
      "text/plain": [
       "  0%|          | 0/150 [00:00<?, ?it/s]"
      ]
     },
     "metadata": {},
     "output_type": "display_data"
    }
   ],
   "source": [
    "values = eval(model, val_dl, ['relu2'])"
   ]
  },
  {
   "cell_type": "code",
   "execution_count": 21,
   "id": "bce4cb2f",
   "metadata": {},
   "outputs": [
    {
     "data": {
      "image/png": "[encoded data removed]",
      "text/plain": [
       "<Figure size 1200x700 with 2 Axes>"
      ]
     },
     "metadata": {},
     "output_type": "display_data"
    }
   ],
   "source": [
    "gen_confusion_matrix(values['label'], values['pred'], class_map)"
   ]
  },
  {
   "cell_type": "code",
   "execution_count": 7,
   "id": "f7e91cfc",
   "metadata": {},
   "outputs": [
    {
     "ename": "NameError",
     "evalue": "name 'values' is not defined",
     "output_type": "error",
     "traceback": [
      "\u001b[0;31m---------------------------------------------------------------------------\u001b[0m",
      "\u001b[0;31mNameError\u001b[0m                                 Traceback (most recent call last)",
      "Cell \u001b[0;32mIn[7], line 1\u001b[0m\n\u001b[0;32m----> 1\u001b[0m gen_tsne([\u001b[39m'\u001b[39m\u001b[39mrelu2\u001b[39m\u001b[39m'\u001b[39m], values, class_map)\n",
      "\u001b[0;31mNameError\u001b[0m: name 'values' is not defined"
     ]
    }
   ],
   "source": [
    "gen_tsne(['relu2'], values, class_map)"
   ]
  },
  {
   "cell_type": "code",
   "execution_count": 7,
   "id": "98db3550",
   "metadata": {},
   "outputs": [
    {
     "name": "stdout",
     "output_type": "stream",
     "text": [
      "True\n",
      "forward False\n",
      "tensor([[ -2.6126, -10.9486,   5.4568, -14.2273,  -6.8401,  -2.4020,  -8.2610,\n",
      "          -8.9509,  -3.7262,   2.1082]], device='cuda:0')\n",
      "forward False\n"
     ]
    },
    {
     "ename": "RuntimeError",
     "evalue": "element 0 of tensors does not require grad and does not have a grad_fn",
     "output_type": "error",
     "traceback": [
      "\u001b[0;31m---------------------------------------------------------------------------\u001b[0m",
      "\u001b[0;31mRuntimeError\u001b[0m                              Traceback (most recent call last)",
      "Cell \u001b[0;32mIn[7], line 1\u001b[0m\n\u001b[0;32m----> 1\u001b[0m gen_saliency(model, \u001b[39m'\u001b[39;49m\u001b[39m/home/gigachad/DeepLearningProject/data/samples/country/0_country.00002.wav\u001b[39;49m\u001b[39m'\u001b[39;49m, device)\n",
      "File \u001b[0;32m~/DeepLearningProject/utils/analysis_utils.py:108\u001b[0m, in \u001b[0;36mgen_saliency\u001b[0;34m(model, input_file, device)\u001b[0m\n\u001b[1;32m    106\u001b[0m \u001b[39mprint\u001b[39m(model(audio))\n\u001b[1;32m    107\u001b[0m saliency \u001b[39m=\u001b[39m Saliency(model)\n\u001b[0;32m--> 108\u001b[0m attribution \u001b[39m=\u001b[39m saliency\u001b[39m.\u001b[39;49mattribute(audio, target\u001b[39m=\u001b[39;49m\u001b[39m3\u001b[39;49m)\n\u001b[1;32m    109\u001b[0m \u001b[39mprint\u001b[39m(attribution)\n",
      "File \u001b[0;32m~/anaconda3/envs/torch-env/lib/python3.10/site-packages/captum/log/__init__.py:42\u001b[0m, in \u001b[0;36mlog_usage.<locals>._log_usage.<locals>.wrapper\u001b[0;34m(*args, **kwargs)\u001b[0m\n\u001b[1;32m     40\u001b[0m \u001b[39m@wraps\u001b[39m(func)\n\u001b[1;32m     41\u001b[0m \u001b[39mdef\u001b[39;00m \u001b[39mwrapper\u001b[39m(\u001b[39m*\u001b[39margs, \u001b[39m*\u001b[39m\u001b[39m*\u001b[39mkwargs):\n\u001b[0;32m---> 42\u001b[0m     \u001b[39mreturn\u001b[39;00m func(\u001b[39m*\u001b[39;49margs, \u001b[39m*\u001b[39;49m\u001b[39m*\u001b[39;49mkwargs)\n",
      "File \u001b[0;32m~/anaconda3/envs/torch-env/lib/python3.10/site-packages/captum/attr/_core/saliency.py:130\u001b[0m, in \u001b[0;36mSaliency.attribute\u001b[0;34m(self, inputs, target, abs, additional_forward_args)\u001b[0m\n\u001b[1;32m    126\u001b[0m gradient_mask \u001b[39m=\u001b[39m apply_gradient_requirements(inputs)\n\u001b[1;32m    128\u001b[0m \u001b[39m# No need to format additional_forward_args here.\u001b[39;00m\n\u001b[1;32m    129\u001b[0m \u001b[39m# They are being formated in the `_run_forward` function in `common.py`\u001b[39;00m\n\u001b[0;32m--> 130\u001b[0m gradients \u001b[39m=\u001b[39m \u001b[39mself\u001b[39;49m\u001b[39m.\u001b[39;49mgradient_func(\n\u001b[1;32m    131\u001b[0m     \u001b[39mself\u001b[39;49m\u001b[39m.\u001b[39;49mforward_func, inputs, target, additional_forward_args\n\u001b[1;32m    132\u001b[0m )\n\u001b[1;32m    133\u001b[0m \u001b[39mif\u001b[39;00m \u001b[39mabs\u001b[39m:\n\u001b[1;32m    134\u001b[0m     attributions \u001b[39m=\u001b[39m \u001b[39mtuple\u001b[39m(torch\u001b[39m.\u001b[39mabs(gradient) \u001b[39mfor\u001b[39;00m gradient \u001b[39min\u001b[39;00m gradients)\n",
      "File \u001b[0;32m~/anaconda3/envs/torch-env/lib/python3.10/site-packages/captum/_utils/gradient.py:119\u001b[0m, in \u001b[0;36mcompute_gradients\u001b[0;34m(forward_fn, inputs, target_ind, additional_forward_args)\u001b[0m\n\u001b[1;32m    113\u001b[0m     \u001b[39massert\u001b[39;00m outputs[\u001b[39m0\u001b[39m]\u001b[39m.\u001b[39mnumel() \u001b[39m==\u001b[39m \u001b[39m1\u001b[39m, (\n\u001b[1;32m    114\u001b[0m         \u001b[39m\"\u001b[39m\u001b[39mTarget not provided when necessary, cannot\u001b[39m\u001b[39m\"\u001b[39m\n\u001b[1;32m    115\u001b[0m         \u001b[39m\"\u001b[39m\u001b[39m take gradient with respect to multiple outputs.\u001b[39m\u001b[39m\"\u001b[39m\n\u001b[1;32m    116\u001b[0m     )\n\u001b[1;32m    117\u001b[0m     \u001b[39m# torch.unbind(forward_out) is a list of scalar tensor tuples and\u001b[39;00m\n\u001b[1;32m    118\u001b[0m     \u001b[39m# contains batch_size * #steps elements\u001b[39;00m\n\u001b[0;32m--> 119\u001b[0m     grads \u001b[39m=\u001b[39m torch\u001b[39m.\u001b[39;49mautograd\u001b[39m.\u001b[39;49mgrad(torch\u001b[39m.\u001b[39;49munbind(outputs), inputs)\n\u001b[1;32m    120\u001b[0m \u001b[39mreturn\u001b[39;00m grads\n",
      "File \u001b[0;32m~/anaconda3/envs/torch-env/lib/python3.10/site-packages/torch/autograd/__init__.py:303\u001b[0m, in \u001b[0;36mgrad\u001b[0;34m(outputs, inputs, grad_outputs, retain_graph, create_graph, only_inputs, allow_unused, is_grads_batched)\u001b[0m\n\u001b[1;32m    301\u001b[0m     \u001b[39mreturn\u001b[39;00m _vmap_internals\u001b[39m.\u001b[39m_vmap(vjp, \u001b[39m0\u001b[39m, \u001b[39m0\u001b[39m, allow_none_pass_through\u001b[39m=\u001b[39m\u001b[39mTrue\u001b[39;00m)(grad_outputs_)\n\u001b[1;32m    302\u001b[0m \u001b[39melse\u001b[39;00m:\n\u001b[0;32m--> 303\u001b[0m     \u001b[39mreturn\u001b[39;00m Variable\u001b[39m.\u001b[39;49m_execution_engine\u001b[39m.\u001b[39;49mrun_backward(  \u001b[39m# Calls into the C++ engine to run the backward pass\u001b[39;49;00m\n\u001b[1;32m    304\u001b[0m         t_outputs, grad_outputs_, retain_graph, create_graph, t_inputs,\n\u001b[1;32m    305\u001b[0m         allow_unused, accumulate_grad\u001b[39m=\u001b[39;49m\u001b[39mFalse\u001b[39;49;00m)\n",
      "\u001b[0;31mRuntimeError\u001b[0m: element 0 of tensors does not require grad and does not have a grad_fn"
     ]
    }
   ],
   "source": [
    "gen_saliency(model, '/home/gigachad/DeepLearningProject/data/samples/country/0_country.00002.wav', device)"
   ]
  }
 ],
 "metadata": {
  "kernelspec": {
   "display_name": "torch-env",
   "language": "python",
   "name": "python3"
  },
  "language_info": {
   "codemirror_mode": {
    "name": "ipython",
    "version": 3
   },
   "file_extension": ".py",
   "mimetype": "text/x-python",
   "name": "python",
   "nbconvert_exporter": "python",
   "pygments_lexer": "ipython3",
   "version": "3.10.11"
  },
  "vscode": {
   "interpreter": {
    "hash": "2a965422710205d75ab1fcc30a0e637d490c5c4ea17a888d6f17b2c082e4684d"
   }
  }
 },
 "nbformat": 4,
 "nbformat_minor": 5
}
