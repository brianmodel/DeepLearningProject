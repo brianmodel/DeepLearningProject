{
 "cells": [
  {
   "cell_type": "markdown",
   "id": "86bbb202",
   "metadata": {},
   "source": [
    "# Processing data\n",
    "Available at https://www.kaggle.com/datasets/andradaolteanu/gtzan-dataset-music-genre-classification"
   ]
  },
  {
   "cell_type": "code",
   "execution_count": 1,
   "id": "41a900d9",
   "metadata": {},
   "outputs": [],
   "source": [
    "import os\n",
    "import pandas as pd\n",
    "\n",
    "import torch\n",
    "import torchaudio\n",
    "from torchaudio import transforms\n",
    "from IPython.display import Audio"
   ]
  },
  {
   "cell_type": "code",
   "execution_count": 3,
   "id": "530c1b94",
   "metadata": {},
   "outputs": [],
   "source": [
    "AUDIO_ROOT = './data/audio'"
   ]
  },
  {
   "cell_type": "code",
   "execution_count": 37,
   "id": "abdfa952",
   "metadata": {},
   "outputs": [],
   "source": [
    "files = []\n",
    "labels = []\n",
    "for dirent in os.listdir(AUDIO_ROOT):\n",
    "    dirpath = os.path.join(AUDIO_ROOT, dirent)\n",
    "    if os.path.isdir(dirpath):\n",
    "        for file in os.listdir(dirpath):\n",
    "            path = os.path.join(dirpath, file)\n",
    "            files.append(path)\n",
    "            labels.append(dirent)\n",
    "\n",
    "data = pd.DataFrame({'file': files, 'label': labels})"
   ]
  },
  {
   "cell_type": "code",
   "execution_count": 41,
   "id": "e6dbdf00",
   "metadata": {},
   "outputs": [],
   "source": [
    "class AudioHelper():\n",
    "\n",
    "    @staticmethod\n",
    "    def open(audio_file):\n",
    "        sig, sr = torchaudio.load(audio_file)\n",
    "        return (sig, sr)\n",
    "    \n",
    "    # Convert into 2-channel\n",
    "    @staticmethod\n",
    "    def rechannel(aud, new_channel):\n",
    "        sig, sr = aud\n",
    "\n",
    "        if (sig.shape[0] == new_channel):\n",
    "          # Nothing to do\n",
    "          return aud\n",
    "\n",
    "        if (new_channel == 1):\n",
    "          # Convert from stereo to mono by selecting only the first channel\n",
    "          resig = sig[:1, :]\n",
    "        else:\n",
    "          # Convert from mono to stereo by duplicating the first channel\n",
    "          resig = torch.cat([sig, sig])\n",
    "\n",
    "        return ((resig, sr))\n"
   ]
  },
  {
   "cell_type": "code",
   "execution_count": 46,
   "id": "049cb1f4",
   "metadata": {},
   "outputs": [
    {
     "data": {
      "text/plain": [
       "torch.Size([1, 661504])"
      ]
     },
     "execution_count": 46,
     "metadata": {},
     "output_type": "execute_result"
    }
   ],
   "source": [
    "AudioHelper.open(data.iloc[0].file)[0].shape"
   ]
  },
  {
   "cell_type": "code",
   "execution_count": null,
   "id": "c336aeec",
   "metadata": {},
   "outputs": [],
   "source": []
  }
 ],
 "metadata": {
  "kernelspec": {
   "display_name": "Python 3 (ipykernel)",
   "language": "python",
   "name": "python3"
  },
  "language_info": {
   "codemirror_mode": {
    "name": "ipython",
    "version": 3
   },
   "file_extension": ".py",
   "mimetype": "text/x-python",
   "name": "python",
   "nbconvert_exporter": "python",
   "pygments_lexer": "ipython3",
   "version": "3.9.16"
  }
 },
 "nbformat": 4,
 "nbformat_minor": 5
}
